{
 "cells": [
  {
   "attachments": {},
   "cell_type": "markdown",
   "metadata": {},
   "source": [
    "**1.1 Moving Average Strategy**\n",
    "\n",
    "This algorithm is a short-term trading strategy based off the moving average indicator. Utilizing moving average compares the velocity of price movement between distinct periods of time. If the moving average of a period with the shorter time window is greater than the period with the larger window, this indicates that the price is currently experiencing an upwards trend which should incentivize buying pressure.  "
   ]
  },
  {
   "cell_type": "code",
   "execution_count": 73,
   "metadata": {},
   "outputs": [],
   "source": [
    "#dependencies\n",
    "import numpy as np\n",
    "import yfinance as yf\n",
    "import pandas as pd"
   ]
  },
  {
   "cell_type": "code",
   "execution_count": 74,
   "metadata": {},
   "outputs": [
    {
     "name": "stdout",
     "output_type": "stream",
     "text": [
      "                                 Open        High         Low       Close  \\\n",
      "Date                                                                        \n",
      "2022-07-25 00:00:00-04:00  272.216675  298.320007  256.263336  297.149994   \n",
      "2022-08-01 00:00:00-04:00  301.276672  313.606659  285.543335  288.170013   \n",
      "2022-08-08 00:00:00-04:00  295.000000  305.200012  279.353333  300.029999   \n",
      "2022-08-15 00:00:00-04:00  301.786682  314.666656  292.500000  296.666656   \n",
      "2022-08-22 00:00:00-04:00  291.913330  303.646667  286.296661  288.089996   \n",
      "2022-08-29 00:00:00-04:00  282.829987  288.480011  266.149994  270.209991   \n",
      "2022-09-05 00:00:00-04:00  272.679993  299.850006  265.739990  299.679993   \n",
      "2022-09-12 00:00:00-04:00  300.720001  309.119995  290.399994  303.350006   \n",
      "2022-09-19 00:00:00-04:00  300.089996  313.799988  272.820007  275.329987   \n",
      "2022-09-26 00:00:00-04:00  271.829987  289.000000  262.470001  265.250000   \n",
      "2022-10-03 00:00:00-04:00  254.500000  257.500000  222.020004  223.070007   \n",
      "2022-10-10 00:00:00-04:00  223.929993  226.990005  204.160004  204.990005   \n",
      "2022-10-17 00:00:00-04:00  210.039993  229.820007  202.000000  214.440002   \n",
      "2022-10-24 00:00:00-04:00  205.820007  233.809998  198.589996  228.520004   \n",
      "2022-10-31 00:00:00-04:00  226.190002  237.399994  203.080002  207.470001   \n",
      "2022-11-07 00:00:00-05:00  208.649994  208.899994  177.119995  195.970001   \n",
      "2022-11-14 00:00:00-05:00  192.770004  200.820007  176.550003  180.190002   \n",
      "2022-11-21 00:00:00-05:00  175.850006  185.199997  166.190002  182.860001   \n",
      "2022-11-28 00:00:00-05:00  179.960007  198.919998  178.750000  194.860001   \n",
      "2022-12-05 00:00:00-05:00  189.440002  191.270004  169.059998  179.050003   \n",
      "2022-12-12 00:00:00-05:00  176.100006  177.369995  150.039993  150.229996   \n",
      "2022-12-19 00:00:00-05:00  154.000000  155.250000  121.019997  123.150002   \n",
      "2022-12-26 00:00:00-05:00  117.500000  124.480003  108.239998  123.180000   \n",
      "2023-01-02 00:00:00-05:00  118.470001  118.800003  101.809998  113.059998   \n",
      "2023-01-09 00:00:00-05:00  118.959999  125.949997  114.919998  122.400002   \n",
      "2023-01-16 00:00:00-05:00  125.699997  136.679993  124.309998  133.419998   \n",
      "2023-01-23 00:00:00-05:00  135.869995  146.500000  134.270004  144.429993   \n",
      "\n",
      "                              Volume  Dividends  Stock Splits  \n",
      "Date                                                           \n",
      "2022-07-25 00:00:00-04:00  399040200        0.0           0.0  \n",
      "2022-08-01 00:00:00-04:00  478140600        0.0           0.0  \n",
      "2022-08-08 00:00:00-04:00  429969600        0.0           0.0  \n",
      "2022-08-15 00:00:00-04:00  355157400        0.0           0.0  \n",
      "2022-08-22 00:00:00-04:00  287481800        0.0           3.0  \n",
      "2022-08-29 00:00:00-04:00  249690900        0.0           0.0  \n",
      "2022-09-05 00:00:00-04:00  213940100        0.0           0.0  \n",
      "2022-09-12 00:00:00-04:00  341416200        0.0           0.0  \n",
      "2022-09-19 00:00:00-04:00  318723500        0.0           0.0  \n",
      "2022-09-26 00:00:00-04:00  320014100        0.0           0.0  \n",
      "2022-10-03 00:00:00-04:00  448139900        0.0           0.0  \n",
      "2022-10-10 00:00:00-04:00  397406400        0.0           0.0  \n",
      "2022-10-17 00:00:00-04:00  415404100        0.0           0.0  \n",
      "2022-10-24 00:00:00-04:00  412758400        0.0           0.0  \n",
      "2022-10-31 00:00:00-04:00  342474400        0.0           0.0  \n",
      "2022-11-07 00:00:00-05:00  596889200        0.0           0.0  \n",
      "2022-11-14 00:00:00-05:00  390472900        0.0           0.0  \n",
      "2022-11-21 00:00:00-05:00  331544400        0.0           0.0  \n",
      "2022-11-28 00:00:00-05:00  439140800        0.0           0.0  \n",
      "2022-12-05 00:00:00-05:00  471983600        0.0           0.0  \n",
      "2022-12-12 00:00:00-05:00  687706200        0.0           0.0  \n",
      "2022-12-19 00:00:00-05:00  821451300        0.0           0.0  \n",
      "2022-12-26 00:00:00-05:00  808941700        0.0           0.0  \n",
      "2023-01-02 00:00:00-05:00  790354000        0.0           0.0  \n",
      "2023-01-09 00:00:00-05:00  891577500        0.0           0.0  \n",
      "2023-01-16 00:00:00-05:00  690879100        0.0           0.0  \n",
      "2023-01-23 00:00:00-05:00  554552647        0.0           0.0  \n"
     ]
    }
   ],
   "source": [
    "#retrieving market data\n",
    "tesla = yf.Ticker(\"TSLA\")\n",
    "data = tesla.history(interval = \"1wk\", period = \"6mo\")\n",
    "print(data)"
   ]
  },
  {
   "attachments": {},
   "cell_type": "markdown",
   "metadata": {},
   "source": [
    "**1.2 Calulation of the moving average indicators**"
   ]
  },
  {
   "cell_type": "code",
   "execution_count": 75,
   "metadata": {},
   "outputs": [
    {
     "name": "stdout",
     "output_type": "stream",
     "text": [
      "133.41666412353516\n",
      "146.66399917602538\n"
     ]
    }
   ],
   "source": [
    "#calculate 3 week and 10 week moving averages based on closing prices\n",
    "m_3 = data['Close'].rolling(window = 3).mean()\n",
    "m_10 = data['Close'].rolling(window = 10).mean()\n",
    "\n",
    "#displays the last moving average values for each interval\n",
    "print(m_3[-1])\n",
    "print(m_10[-1])\n",
    "\n"
   ]
  },
  {
   "cell_type": "code",
   "execution_count": 76,
   "metadata": {},
   "outputs": [
    {
     "name": "stdout",
     "output_type": "stream",
     "text": [
      "Tesla stock is trending down\n"
     ]
    }
   ],
   "source": [
    "#If the 3 week moving average is greater than the 10 week, Tesla stock in trending up\n",
    "if m_3[-1] > m_10[-1]:\n",
    "    print(\"Tesla stock is trending up\")\n",
    "\n",
    "#If the 10 week moving average is greater than the 3 week, Tesla stock is trending down\n",
    "else:\n",
    "    print(\"Tesla stock is trending down\")\n"
   ]
  },
  {
   "attachments": {},
   "cell_type": "markdown",
   "metadata": {},
   "source": [
    "**2.1 Backtesting Rules**\n",
    "\n",
    "*Testing Structure*\n",
    "- Create copy of data list called new_data with a 6 month period\n",
    "- A loop is created where all the backtesting functionality is going to be written\n",
    "- This loop splices the historical market data into a 4 week segment and continues to add 4 weeks of data up until 6 months\n",
    "- Then the moving average function is applied on this data's last closing date (so it is testing the data backwards NOT forwards)\n",
    "- The porfolio is going to start out with 0 stock and $100,000 to invest\n",
    "\n",
    "*Case 1: No stock*\n",
    "- If the order is to sell and you have no stock don't do anything\n",
    "- If the order is to buy and you have no stock find the stock price and subtract that from $100,000 (portfolio amount) and increment the number of stock you have by 1 (Log the transaction in console: BUY 1 $TSLA stock @ [stockprice])\n",
    "\n",
    "*Case 2: With Stock*\n",
    "- If the order is to sell and you have stock, find the stock price and add it to the portfolio amount (Log the transaction in console: SELL 1 $TSLA stock @ [stockprice])\n",
    "- If the order is to buy and you have stock, find the stock price and subtract it from the portfolio amount (Log the transaction in console: SELL 1 $TSLA stock @ [stockprice])\n",
    "\n",
    "*Results*\n",
    "- The results are going to record realized and unrealized P/L\n",
    "- Realized P/L = The remaining portfolio amount - 100,000\n",
    "- Unrealized P/L = The remaining portfolio amount + (# of stocks * most recent stock price) - 100,000\n"
   ]
  },
  {
   "cell_type": "code",
   "execution_count": 77,
   "metadata": {},
   "outputs": [
    {
     "name": "stdout",
     "output_type": "stream",
     "text": [
      "Bought Tesla Stock @ $ 296.6666564941406\n",
      "Sold Tesla Stock @ $ 303.3500061035156\n",
      "Bought Tesla Stock @ $ 204.99000549316406\n",
      "Bought Tesla Stock @ $ 195.97000122070312\n",
      "Bought Tesla Stock @ $ 179.0500030517578\n",
      "Bought Tesla Stock @ $ 113.05999755859375\n",
      "Sold Tesla Stock @ $ 144.42999267578125\n",
      "Realized P/L:  -541.9566650390625 \n",
      "\n",
      "Unrealized P/L:  -108.66668701171875\n"
     ]
    }
   ],
   "source": [
    "#backtest\n",
    "def backtesting(max_weeks, additional_weeks):\n",
    "\n",
    "    #initializing variables\n",
    "    start = 0\n",
    "    end = 0\n",
    "    stocks = 0\n",
    "    portfolio = 100000\n",
    "    time = []\n",
    "    price = []\n",
    "    position = []\n",
    "    #the end of the data is up to a week maximum which represents the 6 month period\n",
    "    while end <= max_weeks:\n",
    "        new_data = tesla.history(interval = \"1wk\", period = \"6mo\")\n",
    "        #additional weeks of data are added on every loop\n",
    "        end = end + additional_weeks\n",
    "        new_data = new_data[:end]\n",
    "        m_1 = new_data['Close'].rolling(window = 1).mean()\n",
    "        m_2 = new_data['Close'].rolling(window = 2).mean()\n",
    "        #to drop null values due to yahoo finance's bad API(lol)\n",
    "        m_1 = m_1.dropna()\n",
    "        m_2 = m_2.dropna()\n",
    "\n",
    "        if m_1[-1] > m_2[-1]:\n",
    "            if stocks > 0:\n",
    "                stocks = stocks - 1\n",
    "                portfolio = portfolio + new_data['Close'][-1]\n",
    "                time.append(end)\n",
    "                price.append(new_data['Close'][-1])\n",
    "                position.append(False)\n",
    "                print(\"Sold Tesla Stock @ $\", new_data['Close'][-1])\n",
    "        if m_1[-1] < m_2[-1]:\n",
    "            stocks = stocks + 1\n",
    "            portfolio = portfolio - (new_data['Close'][-1])\n",
    "            time.append(end)\n",
    "            price.append(new_data['Close'][-1])\n",
    "            position.append(True)\n",
    "            print(\"Bought Tesla Stock @ $\", new_data['Close'][-1])\n",
    "        \n",
    "    print(\"Realized P/L: \", portfolio - 100000, \"\\n\")\n",
    "    print(\"Unrealized P/L: \", (portfolio + (new_data['Close'][-1] * stocks)) - 100000)\n",
    "    return time, price, position\n",
    "#26 maximum weeks, with 4 additional weeks\n",
    "time, price, position = backtesting(26,4)"
   ]
  },
  {
   "cell_type": "code",
   "execution_count": 78,
   "metadata": {},
   "outputs": [
    {
     "data": {
      "image/png": "[encoded data removed]",
      "text/plain": [
       "<Figure size 640x480 with 1 Axes>"
      ]
     },
     "metadata": {},
     "output_type": "display_data"
    }
   ],
   "source": [
    "#creating the chart\n",
    "import matplotlib.pyplot as plt\n",
    "historical_data = tesla.history(interval = \"1wk\", period = \"6mo\")\n",
    "x = np.arange(0, 27)\n",
    "y = []\n",
    "\n",
    "for i in range(0,27):\n",
    "    y.append(historical_data['Close'][i])\n",
    "\n",
    "# plotting\n",
    "plt.title(\"Tesla 6 month Historical Data\")\n",
    "plt.xlabel(\"Time in Weeks\")\n",
    "plt.ylabel(\"Price in Dollars\")\n",
    "plt.plot(x, y, color =\"red\")\n",
    "\n",
    "for unit in range(0, len(time)):\n",
    "    if position[unit]:\n",
    "        plt.plot(time[unit], price[unit], color =\"red\", marker=\">\", markersize=20, markeredgecolor=\"green\",\n",
    "        markerfacecolor=\"red\")\n",
    "    if not position[unit]:\n",
    "        plt.plot(time[unit], price[unit], color =\"green\", marker=\">\", markersize=20, markeredgecolor=\"red\",\n",
    "        markerfacecolor=\"green\")\n",
    "plt.show()"
   ]
  },
  {
   "attachments": {},
   "cell_type": "markdown",
   "metadata": {},
   "source": [
    "**2.2 Analysis**\n",
    "\n",
    "- The chart presented above is the 6 month historical data for Tesla stock. The red arrows represent the positions where a share is bought while the green arrows represent the positions where the bot has sold shares. \n",
    "- Something I've noticed with the trading model is that it tends to buy the dip while selling the upwards trend almost a bit too well. It overfits the historical data instead of estimating the optimal minimum to buy a share at its lowest price.\n",
    "- This algorithm has the potential to become profitable if it is able to estimate the optimal prices to buy and sell an asset."
   ]
  }
 ],
 "metadata": {
  "kernelspec": {
   "display_name": "Python 3",
   "language": "python",
   "name": "python3"
  },
  "language_info": {
   "codemirror_mode": {
    "name": "ipython",
    "version": 3
   },
   "file_extension": ".py",
   "mimetype": "text/x-python",
   "name": "python",
   "nbconvert_exporter": "python",
   "pygments_lexer": "ipython3",
   "version": "3.9.7"
  },
  "orig_nbformat": 4,
  "vscode": {
   "interpreter": {
    "hash": "81794d4967e6c3204c66dcd87b604927b115b27c00565d3d43f05ba2f3a2cb0d"
   }
  }
 },
 "nbformat": 4,
 "nbformat_minor": 2
}
