{
 "cells": [
  {
   "cell_type": "markdown",
   "source": [
    "**2.1 Mean Reversion Strategy**\n",
    "\n",
    "This algorithm is a short-term to mid-term trading strategy implemented by calculating the mean of historical prices before a particular price point. A fibonacci function is also called to calculate the support and resistance levels. The support and resistance levels are used to determine the optimal times to buy or sell the stock. The average of the mean and fibonacci ratio is compared to the current price velocity in order to determine the order to be executed."
   ],
   "metadata": {
    "collapsed": false
   }
  },
  {
   "cell_type": "code",
   "execution_count": 1,
   "outputs": [
    {
     "name": "stdout",
     "output_type": "stream",
     "text": [
      "                                 Open        High         Low       Close  \\\n",
      "Date                                                                        \n",
      "2022-10-03 00:00:00-04:00  239.440002  244.580002  222.020004  223.070007   \n",
      "2022-10-10 00:00:00-04:00  223.929993  226.990005  204.160004  204.990005   \n",
      "2022-10-17 00:00:00-04:00  210.039993  229.820007  202.000000  214.440002   \n",
      "2022-10-24 00:00:00-04:00  205.820007  233.809998  198.589996  228.520004   \n",
      "2022-10-31 00:00:00-04:00  226.190002  237.399994  203.080002  207.470001   \n",
      "2022-11-07 00:00:00-05:00  208.649994  208.899994  177.119995  195.970001   \n",
      "2022-11-14 00:00:00-05:00  192.770004  200.820007  176.550003  180.190002   \n",
      "2022-11-21 00:00:00-05:00  175.850006  185.199997  166.190002  182.860001   \n",
      "2022-11-28 00:00:00-05:00  179.960007  198.919998  178.750000  194.860001   \n",
      "2022-12-05 00:00:00-05:00  189.440002  191.270004  169.059998  179.050003   \n",
      "2022-12-12 00:00:00-05:00  176.100006  177.369995  150.039993  150.229996   \n",
      "2022-12-19 00:00:00-05:00  154.000000  155.250000  121.019997  123.150002   \n",
      "2022-12-26 00:00:00-05:00  117.500000  124.480003  108.239998  123.180000   \n",
      "2023-01-02 00:00:00-05:00  118.470001  118.800003  101.809998  113.059998   \n",
      "2023-01-09 00:00:00-05:00  118.959999  125.949997  114.919998  122.400002   \n",
      "2023-01-16 00:00:00-05:00  125.699997  136.679993  124.309998  133.419998   \n",
      "2023-01-23 00:00:00-05:00  135.869995  180.679993  134.270004  177.899994   \n",
      "2023-01-30 00:00:00-05:00  178.050003  199.000000  162.779999  189.979996   \n",
      "2023-02-06 00:00:00-05:00  193.009995  214.000000  189.550003  196.889999   \n",
      "2023-02-13 00:00:00-05:00  194.419998  217.649994  187.610001  208.309998   \n",
      "2023-02-20 00:00:00-05:00  204.990005  209.710007  191.779999  196.880005   \n",
      "2023-02-27 00:00:00-05:00  202.029999  211.229996  186.009995  197.789993   \n",
      "2023-03-06 00:00:00-05:00  198.539993  198.600006  168.440002  173.440002   \n",
      "2023-03-13 00:00:00-04:00  167.460007  186.220001  163.910004  180.130005   \n",
      "2023-03-20 00:00:00-04:00  178.080002  200.660004  176.350006  190.410004   \n",
      "2023-03-27 00:00:00-04:00  194.419998  207.789993  185.429993  207.460007   \n",
      "2023-04-03 00:00:00-04:00  199.910004  202.690002  179.740005  185.059998   \n",
      "\n",
      "                               Volume  Dividends  Stock Splits  \n",
      "Date                                                            \n",
      "2022-10-03 00:00:00-04:00   153215200        0.0           0.0  \n",
      "2022-10-10 00:00:00-04:00   397406400        0.0           0.0  \n",
      "2022-10-17 00:00:00-04:00   415404100        0.0           0.0  \n",
      "2022-10-24 00:00:00-04:00   412758400        0.0           0.0  \n",
      "2022-10-31 00:00:00-04:00   342474400        0.0           0.0  \n",
      "2022-11-07 00:00:00-05:00   596889200        0.0           0.0  \n",
      "2022-11-14 00:00:00-05:00   390472900        0.0           0.0  \n",
      "2022-11-21 00:00:00-05:00   331544400        0.0           0.0  \n",
      "2022-11-28 00:00:00-05:00   439140800        0.0           0.0  \n",
      "2022-12-05 00:00:00-05:00   471983600        0.0           0.0  \n",
      "2022-12-12 00:00:00-05:00   687706200        0.0           0.0  \n",
      "2022-12-19 00:00:00-05:00   821451300        0.0           0.0  \n",
      "2022-12-26 00:00:00-05:00   809414500        0.0           0.0  \n",
      "2023-01-02 00:00:00-05:00   790689200        0.0           0.0  \n",
      "2023-01-09 00:00:00-05:00   891852300        0.0           0.0  \n",
      "2023-01-16 00:00:00-05:00   691307300        0.0           0.0  \n",
      "2023-01-23 00:00:00-05:00  1095958300        0.0           0.0  \n",
      "2023-01-30 00:00:00-05:00  1091608900        0.0           0.0  \n",
      "2023-02-06 00:00:00-05:00   973057500        0.0           0.0  \n",
      "2023-02-13 00:00:00-05:00  1013262600        0.0           0.0  \n",
      "2023-02-20 00:00:00-05:00   660435200        0.0           0.0  \n",
      "2023-02-27 00:00:00-05:00   806720000        0.0           0.0  \n",
      "2023-03-06 00:00:00-05:00   789636400        0.0           0.0  \n",
      "2023-03-13 00:00:00-04:00   711837700        0.0           0.0  \n",
      "2023-03-20 00:00:00-04:00   694177700        0.0           0.0  \n",
      "2023-03-27 00:00:00-04:00   623056900        0.0           0.0  \n",
      "2023-04-03 00:00:00-04:00   677608032        0.0           0.0  \n"
     ]
    }
   ],
   "source": [
    "#Import modules and packages\n",
    "import yfinance as yf\n",
    "import numpy as np\n",
    "#Load yahoo finance api data for Tesla\n",
    "#retrieving market data\n",
    "tesla = yf.Ticker(\"TSLA\")\n",
    "data = tesla.history(interval = \"1wk\", period = \"6mo\")\n",
    "print(data)"
   ],
   "metadata": {
    "collapsed": false,
    "ExecuteTime": {
     "start_time": "2023-04-08T04:58:25.329614Z",
     "end_time": "2023-04-08T04:58:26.350117Z"
    }
   }
  },
  {
   "cell_type": "markdown",
   "source": [
    "**2.2 Calculating Fibonacci Retracements**"
   ],
   "metadata": {
    "collapsed": false
   }
  },
  {
   "cell_type": "code",
   "execution_count": 2,
   "outputs": [],
   "source": [
    "#calculating the fibonacci retracement levels\n",
    "def fibonacci(ticker, ratio_index):\n",
    "    # extract closing prices from data\n",
    "    ratios = [0.236, 0.382, 0.5, 0.618, 0.786]\n",
    "    prices = []\n",
    "    for i in range(0,len(ticker)):\n",
    "        prices.append(data['Close'][i])\n",
    "\n",
    "    # calculate Fibonacci retracement levels\n",
    "    high_price = max(prices)\n",
    "    low_price = min(prices)\n",
    "    diff = high_price - low_price\n",
    "    retracement = high_price - (ratios[ratio_index] * diff)\n",
    "    return retracement"
   ],
   "metadata": {
    "collapsed": false,
    "ExecuteTime": {
     "start_time": "2023-04-08T04:58:26.353118Z",
     "end_time": "2023-04-08T04:58:26.366241Z"
    }
   }
  },
  {
   "cell_type": "markdown",
   "source": [
    "**2.3 Mean Reversion Backtesting Rules**\n",
    "\n",
    "Similar to the rules of the previous strategy\n"
   ],
   "metadata": {
    "collapsed": false
   }
  },
  {
   "cell_type": "code",
   "execution_count": 3,
   "outputs": [
    {
     "name": "stdout",
     "output_type": "stream",
     "text": [
      "Bought Tesla Stock @ $ 182.86000061035156\n",
      "Bought Tesla Stock @ $ 123.1500015258789\n",
      "Bought Tesla Stock @ $ 133.4199981689453\n",
      "Sold Tesla Stock @ $ 208.30999755859375\n",
      "Sold Tesla Stock @ $ 180.1300048828125\n",
      "Sold Tesla Stock @ $ 185.05999755859375\n",
      "Realized P/L:  134.06999969482422 \n",
      "\n",
      "Unrealized P/L:  134.06999969482422\n"
     ]
    }
   ],
   "source": [
    "#Mean Reversion Backtest\n",
    "def m_reversion_backtest(max_weeks, additional_weeks):\n",
    "    #initializing variables\n",
    "    start = 0\n",
    "    end = 0\n",
    "    stocks = 0\n",
    "    portfolio = 100000\n",
    "    time = []\n",
    "    price = []\n",
    "    position = []\n",
    "    #the end of the data is up to a week maximum which represents the 6 month period\n",
    "    while end <= max_weeks:\n",
    "        new_data = tesla.history(interval = \"1wk\", period = \"6mo\")\n",
    "        #additional weeks of data are added on every loop\n",
    "        end = end + additional_weeks\n",
    "        new_data = new_data[:end]\n",
    "        m_1 = new_data['Close'].rolling(window = 1).mean()\n",
    "        m_2 = new_data['Close'].rolling(window = 2).mean()\n",
    "        #to drop null values due to yahoo finance's bad API(lol)\n",
    "        m_1 = m_1.dropna()\n",
    "        m_2 = m_2.dropna()\n",
    "\n",
    "        #calculate the fibonacci retracement levels\n",
    "        #calculate the mean of the entire historical data\n",
    "        mean = np.mean(new_data['Close'])\n",
    "        fib = fibonacci(new_data, 2)\n",
    "        support_resistance = (mean + fib) / 2\n",
    "\n",
    "        if m_1[-1] > support_resistance:\n",
    "            if stocks > 0:\n",
    "                stocks = stocks - 1\n",
    "                portfolio = portfolio + new_data['Close'][-1]\n",
    "                time.append(end)\n",
    "                price.append(new_data['Close'][-1])\n",
    "                position.append(False)\n",
    "                print(\"Sold Tesla Stock @ $\", new_data['Close'][-1])\n",
    "        if m_1[-1] < support_resistance:\n",
    "            stocks = stocks + 1\n",
    "            portfolio = portfolio - (new_data['Close'][-1])\n",
    "            time.append(end)\n",
    "            price.append(new_data['Close'][-1])\n",
    "            position.append(True)\n",
    "            print(\"Bought Tesla Stock @ $\", new_data['Close'][-1])\n",
    "\n",
    "    print(\"Realized P/L: \", portfolio - 100000, \"\\n\")\n",
    "    print(\"Unrealized P/L: \", (portfolio + (new_data['Close'][-1] * stocks)) - 100000)\n",
    "    return time, price, position\n",
    "#26 maximum weeks, with 4 additional weeks\n",
    "time, price, position = m_reversion_backtest(26,4)\n"
   ],
   "metadata": {
    "collapsed": false,
    "ExecuteTime": {
     "start_time": "2023-04-08T04:58:26.365241Z",
     "end_time": "2023-04-08T04:58:27.625395Z"
    }
   }
  },
  {
   "cell_type": "markdown",
   "source": [
    "**2.4 Plotting the Results**"
   ],
   "metadata": {
    "collapsed": false
   }
  },
  {
   "cell_type": "code",
   "execution_count": 4,
   "outputs": [
    {
     "data": {
      "text/plain": "<Figure size 640x480 with 1 Axes>",
      "image/png": "[encoded data removed]"
     },
     "metadata": {},
     "output_type": "display_data"
    }
   ],
   "source": [
    "#creating the chart\n",
    "import matplotlib.pyplot as plt\n",
    "historical_data = tesla.history(interval = \"1wk\", period = \"6mo\")\n",
    "x = np.arange(0, 26)\n",
    "y = []\n",
    "\n",
    "for i in range(0,26):\n",
    "    y.append(historical_data['Close'][i])\n",
    "\n",
    "# plotting\n",
    "plt.title(\"Tesla 6 month Historical Data\")\n",
    "plt.xlabel(\"Time in Weeks\")\n",
    "plt.ylabel(\"Price in Dollars\")\n",
    "plt.plot(x, y, color =\"red\")\n",
    "\n",
    "for unit in range(0, len(time)):\n",
    "    if position[unit]:\n",
    "        plt.plot(time[unit], price[unit], color =\"red\", marker=\">\", markersize=20, markeredgecolor=\"green\",\n",
    "                 markerfacecolor=\"red\")\n",
    "    if not position[unit]:\n",
    "        plt.plot(time[unit], price[unit], color =\"green\", marker=\">\", markersize=20, markeredgecolor=\"red\",\n",
    "                 markerfacecolor=\"green\")\n",
    "plt.show()"
   ],
   "metadata": {
    "collapsed": false,
    "ExecuteTime": {
     "start_time": "2023-04-08T04:58:27.628397Z",
     "end_time": "2023-04-08T04:58:28.407951Z"
    }
   }
  }
 ],
 "metadata": {
  "kernelspec": {
   "display_name": "Python 3",
   "language": "python",
   "name": "python3"
  },
  "language_info": {
   "name": "python",
   "version": "3.9.7 (tags/v3.9.7:1016ef3, Aug 30 2021, 20:19:38) [MSC v.1929 64 bit (AMD64)]"
  },
  "orig_nbformat": 4,
  "vscode": {
   "interpreter": {
    "hash": "81794d4967e6c3204c66dcd87b604927b115b27c00565d3d43f05ba2f3a2cb0d"
   }
  }
 },
 "nbformat": 4,
 "nbformat_minor": 2
}
